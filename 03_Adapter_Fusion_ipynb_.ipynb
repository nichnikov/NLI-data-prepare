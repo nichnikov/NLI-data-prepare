{
  "cells": [
    {
      "cell_type": "markdown",
      "metadata": {
        "id": "mI6aVBQRy6LC"
      },
      "source": [
        "# 3️⃣ Combining Pre-Trained Adapters using AdapterFusion\n",
        "\n",
        "In [the previous notebook](https://colab.research.google.com/github/Adapter-Hub/adapter-transformers/blob/master/notebooks/02_Adapter_Inference.ipynb), we loaded a single pre-trained adapter from _AdapterHub_. Now we will explore how to take advantage of multiple pre-trained adapters to combine their knowledge on a new task. This setup is called **AdapterFusion** ([Pfeiffer et al., 2020](https://arxiv.org/pdf/2005.00247.pdf)).\n",
        "\n",
        "For this guide, we select **CommitmentBank** ([De Marneffe et al., 2019](https://github.com/mcdm/CommitmentBank)), a three-class textual entailment dataset, as our target task. We will fuse [adapters from AdapterHub](https://adapterhub.ml/explore/) which were pre-trained on different tasks. During training, their represantions are kept fix while a newly introduced fusion layer is trained. As our base model, we will use BERT (`bert-base-uncased`). "
      ]
    },
    {
      "cell_type": "markdown",
      "metadata": {
        "id": "3L9gYpCV28OA"
      },
      "source": [
        "## Installation\n",
        "\n",
        "Again, we install `adapter-transformers` and HuggingFace's `datasets` library first:"
      ]
    },
    {
      "cell_type": "code",
      "execution_count": 1,
      "metadata": {
        "colab": {
          "base_uri": "https://localhost:8080/",
          "height": 1000
        },
        "id": "qL3Sq1HQynCq",
        "outputId": "0ea7eca1-e986-4a92-f18d-94b97f4ae790"
      },
      "outputs": [
        {
          "name": "stdout",
          "output_type": "stream",
          "text": [
            "Collecting adapter-transformers\n",
            "  Downloading adapter_transformers-3.2.1-py3-none-any.whl (6.4 MB)\n",
            "\u001b[2K     \u001b[90m━━━━━━━━━━━━━━━━━━━━━━━━━━━━━━━━━━━━━━━━\u001b[0m \u001b[32m6.4/6.4 MB\u001b[0m \u001b[31m4.8 MB/s\u001b[0m eta \u001b[36m0:00:00\u001b[0m00:01\u001b[0m00:01\u001b[0m\n",
            "\u001b[?25hRequirement already satisfied: tqdm>=4.27 in ./.venv/lib/python3.10/site-packages (from adapter-transformers) (4.65.0)\n",
            "Requirement already satisfied: regex!=2019.12.17 in ./.venv/lib/python3.10/site-packages (from adapter-transformers) (2023.3.23)\n",
            "Requirement already satisfied: requests in ./.venv/lib/python3.10/site-packages (from adapter-transformers) (2.28.2)\n",
            "Requirement already satisfied: filelock in ./.venv/lib/python3.10/site-packages (from adapter-transformers) (3.11.0)\n",
            "Requirement already satisfied: huggingface-hub<1.0,>=0.11.0 in ./.venv/lib/python3.10/site-packages (from adapter-transformers) (0.13.4)\n",
            "Requirement already satisfied: pyyaml>=5.1 in ./.venv/lib/python3.10/site-packages (from adapter-transformers) (6.0)\n",
            "Requirement already satisfied: tokenizers!=0.11.3,<0.14,>=0.11.1 in ./.venv/lib/python3.10/site-packages (from adapter-transformers) (0.13.3)\n",
            "Requirement already satisfied: packaging>=20.0 in ./.venv/lib/python3.10/site-packages (from adapter-transformers) (23.0)\n",
            "Requirement already satisfied: numpy>=1.17 in ./.venv/lib/python3.10/site-packages (from adapter-transformers) (1.24.2)\n",
            "Requirement already satisfied: typing-extensions>=3.7.4.3 in ./.venv/lib/python3.10/site-packages (from huggingface-hub<1.0,>=0.11.0->adapter-transformers) (4.5.0)\n",
            "Requirement already satisfied: urllib3<1.27,>=1.21.1 in ./.venv/lib/python3.10/site-packages (from requests->adapter-transformers) (1.26.15)\n",
            "Requirement already satisfied: charset-normalizer<4,>=2 in ./.venv/lib/python3.10/site-packages (from requests->adapter-transformers) (3.1.0)\n",
            "Requirement already satisfied: idna<4,>=2.5 in ./.venv/lib/python3.10/site-packages (from requests->adapter-transformers) (3.4)\n",
            "Requirement already satisfied: certifi>=2017.4.17 in ./.venv/lib/python3.10/site-packages (from requests->adapter-transformers) (2022.12.7)\n",
            "Installing collected packages: adapter-transformers\n",
            "Successfully installed adapter-transformers-3.2.1\n",
            "Collecting datasets\n",
            "  Using cached datasets-2.11.0-py3-none-any.whl (468 kB)\n",
            "Requirement already satisfied: numpy>=1.17 in ./.venv/lib/python3.10/site-packages (from datasets) (1.24.2)\n",
            "Requirement already satisfied: packaging in ./.venv/lib/python3.10/site-packages (from datasets) (23.0)\n",
            "Collecting responses<0.19\n",
            "  Using cached responses-0.18.0-py3-none-any.whl (38 kB)\n",
            "Requirement already satisfied: requests>=2.19.0 in ./.venv/lib/python3.10/site-packages (from datasets) (2.28.2)\n",
            "Requirement already satisfied: tqdm>=4.62.1 in ./.venv/lib/python3.10/site-packages (from datasets) (4.65.0)\n",
            "Requirement already satisfied: pyarrow>=8.0.0 in ./.venv/lib/python3.10/site-packages (from datasets) (11.0.0)\n",
            "Collecting xxhash\n",
            "  Using cached xxhash-3.2.0-cp310-cp310-manylinux_2_17_x86_64.manylinux2014_x86_64.whl (212 kB)\n",
            "Collecting fsspec[http]>=2021.11.1\n",
            "  Using cached fsspec-2023.3.0-py3-none-any.whl (145 kB)\n",
            "Requirement already satisfied: pyyaml>=5.1 in ./.venv/lib/python3.10/site-packages (from datasets) (6.0)\n",
            "Collecting aiohttp\n",
            "  Using cached aiohttp-3.8.4-cp310-cp310-manylinux_2_17_x86_64.manylinux2014_x86_64.whl (1.0 MB)\n",
            "Collecting multiprocess\n",
            "  Using cached multiprocess-0.70.14-py310-none-any.whl (134 kB)\n",
            "Requirement already satisfied: huggingface-hub<1.0.0,>=0.11.0 in ./.venv/lib/python3.10/site-packages (from datasets) (0.13.4)\n",
            "Requirement already satisfied: pandas in ./.venv/lib/python3.10/site-packages (from datasets) (1.5.2)\n",
            "Collecting dill<0.3.7,>=0.3.0\n",
            "  Using cached dill-0.3.6-py3-none-any.whl (110 kB)\n",
            "Collecting frozenlist>=1.1.1\n",
            "  Using cached frozenlist-1.3.3-cp310-cp310-manylinux_2_5_x86_64.manylinux1_x86_64.manylinux_2_17_x86_64.manylinux2014_x86_64.whl (149 kB)\n",
            "Requirement already satisfied: charset-normalizer<4.0,>=2.0 in ./.venv/lib/python3.10/site-packages (from aiohttp->datasets) (3.1.0)\n",
            "Collecting async-timeout<5.0,>=4.0.0a3\n",
            "  Using cached async_timeout-4.0.2-py3-none-any.whl (5.8 kB)\n",
            "Collecting aiosignal>=1.1.2\n",
            "  Using cached aiosignal-1.3.1-py3-none-any.whl (7.6 kB)\n",
            "Collecting attrs>=17.3.0\n",
            "  Using cached attrs-22.2.0-py3-none-any.whl (60 kB)\n",
            "Collecting multidict<7.0,>=4.5\n",
            "  Using cached multidict-6.0.4-cp310-cp310-manylinux_2_17_x86_64.manylinux2014_x86_64.whl (114 kB)\n",
            "Collecting yarl<2.0,>=1.0\n",
            "  Using cached yarl-1.8.2-cp310-cp310-manylinux_2_17_x86_64.manylinux2014_x86_64.whl (264 kB)\n",
            "Requirement already satisfied: filelock in ./.venv/lib/python3.10/site-packages (from huggingface-hub<1.0.0,>=0.11.0->datasets) (3.11.0)\n",
            "Requirement already satisfied: typing-extensions>=3.7.4.3 in ./.venv/lib/python3.10/site-packages (from huggingface-hub<1.0.0,>=0.11.0->datasets) (4.5.0)\n",
            "Requirement already satisfied: idna<4,>=2.5 in ./.venv/lib/python3.10/site-packages (from requests>=2.19.0->datasets) (3.4)\n",
            "Requirement already satisfied: urllib3<1.27,>=1.21.1 in ./.venv/lib/python3.10/site-packages (from requests>=2.19.0->datasets) (1.26.15)\n",
            "Requirement already satisfied: certifi>=2017.4.17 in ./.venv/lib/python3.10/site-packages (from requests>=2.19.0->datasets) (2022.12.7)\n",
            "Requirement already satisfied: python-dateutil>=2.8.1 in ./.venv/lib/python3.10/site-packages (from pandas->datasets) (2.8.2)\n",
            "Requirement already satisfied: pytz>=2020.1 in ./.venv/lib/python3.10/site-packages (from pandas->datasets) (2023.3)\n",
            "Requirement already satisfied: six>=1.5 in ./.venv/lib/python3.10/site-packages (from python-dateutil>=2.8.1->pandas->datasets) (1.16.0)\n",
            "Installing collected packages: xxhash, multidict, fsspec, frozenlist, dill, attrs, async-timeout, yarl, responses, multiprocess, aiosignal, aiohttp, datasets\n",
            "Successfully installed aiohttp-3.8.4 aiosignal-1.3.1 async-timeout-4.0.2 attrs-22.2.0 datasets-2.11.0 dill-0.3.6 frozenlist-1.3.3 fsspec-2023.3.0 multidict-6.0.4 multiprocess-0.70.14 responses-0.18.0 xxhash-3.2.0 yarl-1.8.2\n"
          ]
        }
      ],
      "source": [
        "!pip install -U adapter-transformers\n",
        "!pip install datasets"
      ]
    },
    {
      "cell_type": "markdown",
      "metadata": {
        "id": "fP9OMSUT-FtL"
      },
      "source": [
        "## Dataset Preprocessing\n",
        "\n",
        "Before setting up training, we first prepare the training data. CommimentBank is part of the SuperGLUE benchmark and can be loaded via HuggingFace `datasets` using one line of code:"
      ]
    },
    {
      "cell_type": "code",
      "execution_count": 3,
      "metadata": {
        "colab": {
          "base_uri": "https://localhost:8080/"
        },
        "id": "INW7UEhC-I6b",
        "outputId": "811a71c5-8e14-49ee-a4cf-577f8675ca49"
      },
      "outputs": [
        {
          "name": "stderr",
          "output_type": "stream",
          "text": [
            "/mnt/data/mlms_fine_tuning/NLI-data-prepare/.venv/lib/python3.10/site-packages/tqdm/auto.py:21: TqdmWarning: IProgress not found. Please update jupyter and ipywidgets. See https://ipywidgets.readthedocs.io/en/stable/user_install.html\n",
            "  from .autonotebook import tqdm as notebook_tqdm\n",
            "Found cached dataset super_glue (/home/an/.cache/huggingface/datasets/super_glue/cb/1.0.3/bb9675f958ebfee0d5d6dc5476fafe38c79123727a7258d515c450873dbdbbed)\n",
            "100%|██████████| 3/3 [00:00<00:00, 1204.45it/s]\n"
          ]
        },
        {
          "data": {
            "text/plain": [
              "{'train': 250, 'validation': 56, 'test': 250}"
            ]
          },
          "execution_count": 3,
          "metadata": {},
          "output_type": "execute_result"
        }
      ],
      "source": [
        "from datasets import load_dataset\n",
        "\n",
        "dataset = load_dataset(\"super_glue\", \"cb\")\n",
        "dataset.num_rows"
      ]
    },
    {
      "cell_type": "markdown",
      "metadata": {
        "id": "epiKaEz5dDVe"
      },
      "source": [
        "Every dataset sample has a premise, a hypothesis and a three-class class label:"
      ]
    },
    {
      "cell_type": "code",
      "execution_count": 17,
      "metadata": {},
      "outputs": [
        {
          "data": {
            "text/plain": [
              "(datasets.dataset_dict.DatasetDict,\n",
              " DatasetDict({\n",
              "     train: Dataset({\n",
              "         features: ['premise', 'hypothesis', 'idx', 'label'],\n",
              "         num_rows: 250\n",
              "     })\n",
              "     validation: Dataset({\n",
              "         features: ['premise', 'hypothesis', 'idx', 'label'],\n",
              "         num_rows: 56\n",
              "     })\n",
              "     test: Dataset({\n",
              "         features: ['premise', 'hypothesis', 'idx', 'label'],\n",
              "         num_rows: 250\n",
              "     })\n",
              " }),\n",
              " ['It was a complex language. Not written down but handed down. One might say it was peeled down.',\n",
              "  'It is part of their religion, a religion I do not scoff at as it holds many elements which match our own even though it lacks the truth of ours. At one of their great festivals they have the ritual of driving out the devils from their bodies. First the drummers come on - I may say that no women are allowed to take part in this ritual and the ladies here will perhaps agree with me that they are fortunate in that omission.',\n",
              "  \"The Paris to Rouen railway was being extended to Le Havre, and the line cut straight through Dr Flaubert's land. Part of it was to be compulsorily purchased. You could say that Gustave was shepherded into creative retreat at Croisset by epilepsy.\",\n",
              "  'Part of it was to be compulsorily purchased. You could say that Gustave was shepherded into creative retreat at Croisset by epilepsy. You could also say he was driven there by the railway.',\n",
              "  \"Some of them, like for instance the farm in Connecticut, are quite small. If I like a place I buy it. I guess you could say it's a hobby.\",\n",
              "  \"Look, my dear, I'm not in my dotage yet, and I know I'm a grumbler and a complainer. You could say the only form of comfort I 've got are my complaints.\",\n",
              "  'Then the silence in the Zoo became complete. Woil stared around him and then suddenly with a push of his wings raised himself into the air, turned, and landed ten feet away on the back of a green bench. Creggan could see that he was afraid and that his fear was making him terribly uncertain.',\n",
              "  \"But, of course, that just wasn't possible. Her disappointment over Jonathan, which had driven her to France in the first place, had been relegated somewhere to the back of her mind. Now in retrospect she could see that marriage to him would have been a ghastly mistake and that her reaction to discovering that he had been seeing other women while he had been engaged to her had had far more to do with wounded pride than with a wounded heart.\",\n",
              "  'Like now. The Community in Knockglen would defend Eve vociferously. Even some of the Sisters here in Dublin might see that the girl had a point.',\n",
              "  \"``They have to be crushed, Bobkins!'' So saying, she marched off down the gravel path, making the kind of crunching noise Robert had thought could only be produced by the BBC sound-effects department. As they rounded the edge of the building he could see that behind the house was a vast garden.\",\n",
              "  \"``Do you mind if I use your phone?'' Ronni could see that Guido's brain was whirring.\",\n",
              "  \"``Look, lady, give me a break. I just deliver the stuff, I don't interview it for the Sunday papers.'' He waved the paper at her and even at a distance she could see that it said very little.\",\n",
              "  \"``You 've heard something like that before. Haven't you, Jimmy?'' Jimmy had been shaken by those sounds more shaken than the others for good reason but Cardiff could see that he was unprepared to show it as he pushed himself away from the reception counter.\",\n",
              "  \"It was Alan's idea. He made a sour kind of joke out of it, that they must wait until their wedding night. Carolyn agreed because she could see he meant it although she didn't understand why.\",\n",
              "  \"And why bother to write anyway? What was there to say? Mary had some vague idea that Adam's parents might suspect he was down here and come to see him.\",\n",
              "  \"``And you're not having this dress,'' Nora said, bending down to look at the price tag. ``It's two and a half guineas!'' she hissed at Louise who could tell that she was genuinely appalled.\",\n",
              "  \"She said good morning to Alice and Alice said hallo. She was thin and rather tall with a very lined gentle face and hair that was white but which Alice could see had once been blonde. She could also have told this was Tina's mother before Mrs Darne went off down the passage that led to the Headmaster's Flat.\",\n",
              "  \"She might have sat all afternoon, nibbling and stuporous, exhausted but not sleepy. But the glazier finally came down from the upper floor, cheerfully announcing that all was now right and tight and he would be on his way. Maggie could tell that he would have liked to stop for a chat that he felt sorry for her left on her own but she lacked either her grandmother's grace or her mother's energy so she did not offer him tea.\",\n",
              "  'Jim waited. He waited a long time, and when the young doctor finally came out, it was almost dark. Jim could nonetheless tell by his anxious face that something was wrong.',\n",
              "  \"``Yes?'' ``Nathan?'' He could tell it was long-distance the line was so gravelly and hollow but he didn't recognise the voice.\",\n",
              "  'Chopra stood unsteadily on his feet. The shapechanger bounded around with excitement. Chopra could tell something had happened.',\n",
              "  'It seemed impossible that anyone could endure such pain for so long, but at last the doors of the Renault slammed and there was comparative silence. The engine was started up, revving violently as the car was turned round on the narrow road. John could tell that it was being driven back up the hill towards Putna.',\n",
              "  \"Just when you think you 've got it straight, along comes the Fool with his pig's bladder and whops you on the nose. By the way, I'm no idiot. I could tell Gillian and Stuart weren't thrilled to see me at the airport.\",\n",
              "  \"He's weird enough to have undressed me without thinking, according to some mad notion of the ``proper'' thing to do. Perhaps he thought I couldn't lie in bed with my clothes on.\",\n",
              "  'That is to say, I did not take sufficient account of the fact that at that time of the day, what Mr Farraday enjoys is a conversation of a lighthearted, humorous sort. Knowing this to be his likely mood when I brought in the tea yesterday afternoon, and being aware of his general propensity to talk with me in a bantering tone at such moments, it would certainly have been wiser not to have mentioned Miss Kenton at all. But you will perhaps understand that there was a natural tendency on my part in asking what was after all a generous favour from my employer to hint that there was a good professional motive behind my request.',\n",
              "  \"But don't dilly-dally for too long. Once it's published we are all going to look a little risible if we have made no adjustments to what is after all known as being predominantly my own design of gallery. Also I am a bit older than the rest of you but you can perhaps understand that I don't want to drop dead without a proper and public recantation.\",\n",
              "  \"I should dearly have liked to know whether they were Europeans or Americans, but I couldn't hear the accents. They appeared to be arguing. I hoped the white men weren't telling him to eliminate all witnesses because I don't believe it would have needed much persuasion.\",\n",
              "  \"But the damage was done as far as my faith was concerned, which is probably why I went mad. So anyway, that Christmas Eve night confirmed my worst fears, it was like a kind of ``royal flush'' for the infant Jimbo. All three kings - Pa Santa and the King of Kings - all down the pan together... And to be honest I don't believe any of them stands a chance of ever making a comeback with me.\",\n",
              "  \"He had seen something I should have, which was a car turning in from Soho Square and coming up behind me. My right foot hovered over the accelerator pedal and I balanced Armstrong on the clutch. I wasn't as convinced as Malpass that Nevil was out of harm's way.\",\n",
              "  \"Jed wondered. He 'd scarcely set eyes on him since the night they 'd had dinner together at the house in Westwood. Nobody had mentioned him either and Jed didn't feel he should ask.\",\n",
              "  'Yet what good came from knowing that a woman had killed herself? The children who had suffered a trauma would survive the experience, scarred by it and a little flawed by it. They would never forget that for a week they had imagined the act of murder had been committed.',\n",
              "  \"Nora calculated that there must be lots of single men up there so she decided it was ideal for the ``manhunt'', as we called it, even though the train fare was a serious consideration. I remember we went up to Euston together one Saturday morning, very excited, to buy the ticket in advance. It was a secret - if my parents had known she was going away alone they would have soon put the kybosh on it.\",\n",
              "  'His mother driving the car, so happy, young-looking and fashionably dressed and his father, a big, confident man in a smart suit, smiling and turning round to say something to Simon in the back seat. Marie thought of her own mother with her frumpy clothes and ageing, lined face. No one would have guessed that she was only forty-two.',\n",
              "  \"``I hope you are settling down and the cat is well.'' This was a lie. She did not hope the cat was well.\",\n",
              "  'Jane ate without pausing. Hunger was an unknown experience. She had never imagined it could actually hurt.',\n",
              "  'Miss Martindale had had a school, but her rigid ideas and stern manner had frightened the children, and their parents had taken them away. And gradually the school declined, until she had to give it up and retire to end her days in the white cottage with the inevitable cat as her only companion. Breeze had never imagined that digging was such hard work.',\n",
              "  \"``You don't need to worry. We're quite adequately chaperoned. Rosa is a woman of strict moral principles.'' If she knows I'm in here she's probably hovering outside the door right now.\",\n",
              "  \"I said you were mad to come over at this time. It's a world event. Don't you know that Venice is packed with visitors?\",\n",
              "  'And what she had said, and went on saying quietly, calmly, efficiently, was that she loved Maggie. She paid attention. At eight Maggie had not known that her grandmother was famous but she had seen that people had something in their manner when they looked at Rachel.',\n",
              "  \"They 'd seen Miss Lavant on the promenade and about the town, always walking slowly, sometimes with a neat wicker basket. Kate had often thought she was beautiful. She hadn't known she was in love with Dr Greenslade who had a wife already and three children.\",\n",
              "  \"Did he intend everyone in the castle to know he did not want the wife he had married in such a hurry? Did he intend to ignore her completely? Then Isabel saw Ellen's stunned face and realised that her maid at least did not know she had spent the night alone.\",\n",
              "  \"Most of them young, about his age, stood and talked and drank and laughed. The two girls he had noticed earlier were standing talking to some other girls. Graham hoped they all realised that just because he was standing talking to Slater that didn't mean he was gay too.\",\n",
              "  \"He said that maybe I wasn't ready to join the Party just yet. Terry's passion for equality appealed to my purer mind, and his hatred of existing authority appealed to my resentments. But although I hated inequality it didn't mean I wanted to be treated like everyone else.\",\n",
              "  \"``Oh, my poor Folly... We 've been together for five years, Lexy and I - she practically holds that company together. Of course I gave her an ``A''. But that doesn't mean I'm having an affair with her.\",\n",
              "  \"Nevertheless, her heart sank at the thought of spending an evening with him in his present state of mind, and she was tempted to invent a sore throat in order to get out of it. But he had been very helpful over the Puddephat business, she admitted to herself, and his moods were unpredictable - he might be on top of the world by the time he arrived at the cinema. ``I'm still keen if you are '' she said brightly pretending she had not noticed anything was amiss.\",\n",
              "  'What must it be like to be imprisoned here, day after day, month after month? I wonder, does he keep them chained and manacled, thought Fenella, or does he use sorcery? And so utterly immersed was she in this strange blue and green land that was not feeling strange any more that she did not even notice that she was weighing sorcery against steel chains and seriously considering the likely outcome.',\n",
              "  \"Strasbourg, Vienna, Bucharest, Istanbul, not stopping, not looking back. I saw her tossing newly gauffred curls as the open roadster headed east, away from Ollie... Temporarily I managed to re-erect my jocular facade, but inside I was panicking. He could take her away I thought he could just do that he has such power to hurt me this little furry creature who hasn't even noticed that I 've given up the weed.\",\n",
              "  'It - the tractor, the boys and the bulbs in the earth - knew she had chosen for them and was coming back to them. Of course there was still love, there was healthy, growing love and its name was called Work. She had fallen in love with it so slowly and gently and sweetly that she had never noticed it had happened.',\n",
              "  \"After the twelfth dot, two thirds of the way down the page, the transcript of this long session tails away into blank paper. I suppose what's happened is this. He has gone on staring out of the window thinking and she has gone on staring at him waiting with such absorption that neither of them noticed the tape had run out.\",\n",
              "  \"``His name is Matthew Blake,'' Mandy informed Charity as they descended the steps from their cabin on to the paved pathway that led to the lodge. Thankfully she hadn't even noticed that Charity had changed from the blue wrap-around skirt and was now wearing red shorts with her white silk blouse.\",\n",
              "  \"``These ` ere smugglers is a dangerous bunch from wot I 've ` eard!'' ``If only we could devise a safe way of laying our hands on all that money,'' murmured Pugwash, whose greed was as proverbial as his cowardice. And the pirates were so busy discussing the problem and what they would do with the reward if they won it that they didn't notice that they were being observed from the window above by none other than the new Mayor and his entourage.\",\n",
              "  \"Ockleton, Morpurgo, Cornelius, Dysart and half a dozen others too drunk to mention. But there was so much coming and going that any one of us could have slipped out, pushed Everett through the window and slipped back again without being noticed. Damn it all we didn't even notice Everett was missing until a porter tripped over him in the quad so anything's theoretically possible.\",\n",
              "  'His hair was white, as my daughters reported when they went to view the body before it was given to the Odonata. Now he is known as The Man Who Changed the World, and there are statues to him everywhere. No one remembers he had a younger brother.',\n",
              "  \"Oh, I did, I did! I was lucky. I would have liked brothers and sisters but I don't remember that I was ever lonely.\",\n",
              "  \"Her priggishness. I admire it. I know she does wrong things she tries to organize other people's lives she can't see Mr Knightley is a man in a million.\",\n",
              "  \"Only she herself knew the evil thoughts she had and how effortlessly they could be translated into action. ``I 'll make a cup of tea.'' No she would not tell Peter that the person he loved most in the world was dead.\",\n",
              "  \"``It's not your day, is it, dear?'' ``No, but they 've got to be done, and Shirley's making the tea.'' Ianthe had not told her mother that she sometimes had to dust the books in the library.\",\n",
              "  \"He pulled occasionally, his arms tiring. Conker slowed a little, but the branches were coming too fast, he had to lean right forward and couldn't use his hands. He remembered the gate at the end of the track had time to hope it was open because he didn't think Conker could jump it.\",\n",
              "  \"But he ended up eating it himself. I was reluctant to kiss my mother, afraid that somehow her weakness and unhappiness would infect me. Naturally I didn't think for a minute that my life and spirit could stimulate her.\",\n",
              "  \"``Ely,'' I said (that was her name and the first time I 'd ever used it), ``I want to be free.'' She looked stunned. I don't think she 'd considered this.\",\n",
              "  \"I'm sorry, I 've put you in an invidious position. If you're being run by Morton, he 'll want to hear all this. It won't do any harm but I 'd rather not give him food for thought because I consider him an idiot and I don't think he's capable of interpreting it correctly.\",\n",
              "  \"The big Norwegian shook his head, frowning. ``Jeg fonstAr ikke.'' I don't think he found Ward's accent at all easy and anyway like many foreigners he found it easier to speak English than to understand it.\",\n",
              "  \"You really don't know anything about me, do you, despite all that wallowing in my mind? As it happens I don't think I'm the right person to lead humanity into the future no.\",\n",
              "  \"It's where the bands practise. I can't remember what band Petra's in, but I seen them practise once. They were OK but I didn't think they was brilliant.\",\n",
              "  \"She swallowed hard, unsure if she had the nerve to go ahead. The memory of the pain in Tara's eyes last night decided her. Did he really expect her to believe that Tara was only the housekeeper?\",\n",
              "  'If there are spirits at work at the time, they come only from yourself, not from the fume of the incense. Why should spirits aid living beings? What arrogance is it that drives people to believe they can have power over them?',\n",
              "  'Why should this topic matter? You talked about everything else as you usually do. Why should I feel Maelmuire is important?',\n",
              "  \"It is all very well, in these changing times, to adapt one's work to take in duties not traditionally within one's realm. But bantering is of another dimension altogether. For one thing how would one know for sure that at any given moment a response of the bantering sort is truly what is expected?\",\n",
              "  'But the horror of losing was as much to do with money as with pride. Biddy had never let them down, come without fail all through the bad weather, and now was giving Nails an intensive course on her own horse which - in terms of money - was worth another couple of hundred pounds. Yet surely she knew they had no way of paying should she demand it?',\n",
              "  \"I ducked so fast I wasn't sure whether he 'd seen me or not, but it gave me a prickly feeling just to imagine it, so I scuttled for the door and legged it up the spiral stairway three steps at a time, just in case. As I ran, I remember thinking stupid thoughts like. How did he know I was up here looking down?\",\n",
              "  'At the heart of the universe there is cruelty. We are predators and are preyed upon, every living thing. Did you know that wasps lay their eggs in ladybirds piercing the weak spot in their armour?',\n",
              "  \"``I wanted to tell you. But the Bookman asked me to keep our meeting a secret.'' How did you know I 'd met him?\",\n",
              "  \"She rubbed them away with an angry fist. She was a fool to let anyone get round her. How long before she learned that folk 'll always take advantage of weakness?\",\n",
              "  'At length she decided that there was nothing to be gained by worrying her. Probably there was some quite innocent explanation, which Roger Kenyon would give her when she returned the wallet - if, indeed, it were his. And yet why had his manner changed so abruptly when he learned that the girl whose hat he had rescued was going to live at Sunset Cottage?',\n",
              "  \"Anna looked at Peter again and said to herself in a guilty whisper, ``Will he become even more difficult?'' She wondered if a stranger could tell that he was difficult, just by looking at him. Would such a person watching Peter now reading the prayers of Rite B in his level pleasant voice notice that resentment lay like his blood just under his skin because the life he had chosen had not turned out as he had expected it to?\",\n",
              "  'Jean was tough and liked to drink. She would endure for a long while yet. But what would she do when she realized that with things as they were she was on a life sentence not just a temporary suspension of essential pleasure?',\n",
              "  \"``Clever''. Klug means ``clever''. Would you say that Abie was clever?\",\n",
              "  \"The Susweca. It means ``dragonfly'' in Sioux, you know. Did I ever tell you that's where Paul and I met?\",\n",
              "  'How do you know? she was going to ask, but his smile was answer enough. If DeVore said there was going to be a vacancy there would be a vacancy.',\n",
              "  \"She didn't know if they had given themselves sufficient time to think things over before they married - that was the kind of question her sister Louise asked. Edward stayed in the Engineers for a bit, then came out and was not very successful in finding a job to suit him. That wasn't his fault and if anyone said that it was Nenna would still feel like poking a hole in them.\",\n",
              "  \"Indeed, in those busy days, our servants ' hall would often witness a gathering of some of the finest professionals in England talking late into the night by the warmth of the fire. Sometimes, naturally, there would be strong disagreements, but more often than not, the atmosphere was dominated by a feeling of mutual respect. Perhaps I will convey a better idea of the tone of those evenings if I say that regular visitors included the likes of Mr Harry Graham valet-butler to Sir James Chambers and Mr John Donalds valet to Mr Sydney Dickenson.\",\n",
              "  \"At this time of year not much, it's been a dryish summer, and there's not a lot of water coming down. Say half a knot - and that's probably an over-estimate. If you say that a freely-floating body - and the weights would help a bit there because they'd keep it under water and out of any wind - moves down on the ebb at an average of a bit under two knots you'd not be far wrong.\",\n",
              "  'However, I will let the gynandrous renegade stay here under one condition. If Penumbra questions either of us, we will not lie. If she suspects Crevecoeur is here and asks we let him go back.',\n",
              "  'This was a sheer waste of time. He would probably land and then tell them to walk back. When she glanced at him again he looked very grim and she wondered if she should have told Mitch that he might well have a lot of opportunity to photograph Spain - on foot as he walked back to Malaga.',\n",
              "  \"Nicky approached her with the assumption that men are naturally right and it is the role of women to follow their lead. Constance, whose confidence was growing daily, was not prepared to give in to Nicky's wishes merely because of his sex. If she felt he was right then she agreed with him.\",\n",
              "  \"Your honesty shines out of your face, my darling. It isn't your fault that cynical men like myself won't let themselves believe what they see! I just wish you could believe that Eddie's death was an accident and nothing to do with me.\",\n",
              "  \"I can't afford to get bogged down in the weeds. But at least you know she did leave. Maybe a coincidence maybe the two girls talked on the phone decided they 'd both had enough.\",\n",
              "  'Country churches were never locked. You could wander in at any time. Perhaps Cromwell when he passed also found the door of Coldingham Priory locked and decided that he would get in anyway even if it meant removing a whole wall in order to do so.',\n",
              "  \"She longed for a weapon, for even a hairpin, and knowing that she did not have one, she knew too that she was totally defenceless, unarmed and alone. She could feel the great flight of the dragon and sensed that she was high in air and travelling fast towards the sunset. She could feel the great muscles of the dragon's wings send ripplings down the stomach walls and she gave herself over to death.\",\n",
              "  \"``Molly likes having an audience for her tales and it passes the hours for them.'' When Miss Louisa had a second more severe stroke at the end of August, and Miss Ellen another heart attack, both old ladies died within a few days of each other. Their friends could only feel that death was merciful in the circumstances especially with war imminent and that Molly had made the closing months of their lives very happy.\",\n",
              "  'Joseph spat and spluttered blood. He had lost the two centre top teeth and with the tip of his tongue he could feel that the two on either side were also loose.',\n",
              "  'He also liked swimming and cycling. He said that he wrote stories, though he had to admit that he had never got further than the first two pages. Willie meanwhile not only remained silent during these conversations but picked his berries slowly so that they might forget that he was there but he reckoned without Zach.',\n",
              "  \"``For God's sake keep them in their seats. If we get panic people are going to be crushed to death and there will be mayhem in the car park.'' The announcer could only guess from the urgency in the Chief Constable's voice that the situation was very very serious.\",\n",
              "  'O listened. As he listened he could smell the man. And he could hear that the song was almost turning into a sob.',\n",
              "  'How did Selden know that the hound was following him? We know he ran a long way. He was screaming for a long time before he fell and we could hear that he was running as he screamed.',\n",
              "  \"That evening Shannon steered well clear of Dane, all but tiptoeing around him, determined not to land in any more confrontations. From now till this snow siege ended, she would simply live under the same roof, but keep to her own side of an invisible barrier, she decided. She could only hope he 'd do the same.\",\n",
              "  'Then it cried. It was another girl. I was a little disappointed but I could only hope that Celia was still a bit hazy from the drugs.',\n",
              "  'Matthew rode on feeling a little more at peace with himself. He skirted the spruce plantation and supposed that at some point he should tell Sara about it. He could imagine that she might be interested in its money-making propensity at the end of the year.',\n",
              "  \"``That's good.'' Ruth stood looking at her. Rachaela could imagine Emma would have been all congratulations and the joys of womanhood.\",\n",
              "  \"Meh ' Lindi did not develop the lower set of arms nor the bony, sinuous tail. Too much to expect a new pair of arms to grow out of her ribs, or her coccyx to elongate so enormously. Nor could Jaq imagine that she could attain the full strength of a purestrain Stealer - though her own strength was formidable even when unenhanced.\",\n",
              "  \"Gloria remarked as they shared their coffee break in the kitchen. Melissa suppressed a sigh. She had hoped to dodge the subject but might have known that Gloria's boundless interest in all things morbid and sensational would make it impossible.\",\n",
              "  'Merrill dropped into her chair. That altercation with Luke had drained her. She might have known that he would never divulge his relationship with Elise.',\n",
              "  \"``Oh, very well,'' he said wearily. He might have known that it was useless to argue with McAllister - her tongue was as long as her will was strong.\",\n",
              "  'I was angry with her for not saying anything, not doing anything. I still had a formless feeling that she understood me where my mother did not. Perhaps it was despair that made me believe there was one person in the world who might know that I was in despair.',\n",
              "  \"``For such a person, finding a protector might not be so difficult, even in Edinburgh.'' Jean smiled. He might have known that even someone as sensible as Miss van Wiliamsburgh would try to make a play of this sort.\",\n",
              "  \"L. Underneath, in purple ink, had been added. ``And love, Fenella'', with a capital X as a kiss. I might have known Lisabeth wouldn't have walked up the stairs herself to leave the note.\",\n",
              "  \"He 'd gone. Philip had to get them back. His Dad would kill him if he found that he 'd taken them.\",\n",
              "  'There was no answer. Moving carefully, Benny stepped around the edges of the room, and opened the window shutters. Her momentary horror at seeing the unmistakable form of General Etienne was only slightly dulled by the realization that the stiff posture he was in could only mean he was dead.',\n",
              "  \"I didn't really like the way the other boys treated him. I was new at the school and still observing, still beginning friendships. Perhaps Alec noticed that I did not ridicule him as the others did.\",\n",
              "  'And I was excited by my new importance. Proud and pleased to be playing opposite Frank Donovan who had once stood in for Hayden Coffin. Occasionally perhaps I should notice that he was not the jovial easy-going character I remembered from my humble place in the chorus.',\n",
              "  \"``And you're wrong about us. We're not children and I 'd say we're learning the rules pretty quickly.'' You may have noticed I'm not shaking any more!\",\n",
              "  \"When he was there we were Bonnie and Clyde, now he was gone we were Blondie and Dagwood. Or rather, now he was gone, I was Dennis. If I 'd been smarter or less vain I might have realized that this meant that my former role was now vacant.\",\n",
              "  \"For a while the notion gripped him, and he prowled the many floors of Hamleys looking for toys. He bought a magic set for Sebastian (although his ideal present for the kid would have been a brand-new name) and a marionette for Louise. He could remember that there was an age for puppets and magic just as he could remember the time that he 'd spent trying to fan a deck of cards or sitting in front of a mirror trying to get the hard consonants down like a real ventriloquist.\",\n",
              "  \"I spent just over an hour with Patterson which, I found out later, turned out to be another first. Time is money in the City and few people are worth an hour unless it's over lunch and only then if you're involved in a takeover bid. It was also I learned one of the few occasions anyone at PKB could remember that Patterson had a meeting with his door shut and nobody got fired.\",\n",
              "  \"The Deputy Under Secretary could talk of his host's prospects and disappointments, he could learn of the problems of digging out foreign exchange and hard currency in the Third World, the tribulations over the renewal of Residence Permits, the difficulties of keeping reliable servants, but of his own world he must remain silent. The Deputy Under Secretary headed the Secret Intelligence Service of the United Kingdom, and that was not a subject matter for gossip and conversation on a bougainvillaea-fringed veranda as the lights of the fishermen's dug-outs floated inside the coral reef... No bloody way. He was a man who could be honest with himself and in honesty he could say that he was both pleased and relieved to be back at his desk on a grey Monday morning in London.\",\n",
              "  'I WAS really only a bystander in the tragedy of young Mr and Mrs McLeod. It was not really my business although it could be said that I had known them both - had seen them about - for most of their lives.',\n",
              "  'Paula could not help herself. It was just the way she was. Others might say they hated her and mean it.',\n",
              "  \"A: How do you feel about gun control? B: Well, uh, I mean I don't think that guns should be outlawed\",\n",
              "  \"B: I don't know how my parents did it. A: Yeah. B: I mean, there were five of us and I don't recall, you know, wanting anything in particular. Uh, but I don't know how my father did it. He worked at a truck line and he just didn't make that kind of money with five children. But we did okay. We had a house and a home and, but now, my wife and I both work and I don't believe we have as much as my parents did.\",\n",
              "  \"A: Well, how do you feel about the immigration laws? B: At, currently, I think they are a little restrictive. Uh, particularly for, uh, certain ethnic groups or from certain countries. Um, I think we should permit, uh, more immigration from eastern Europe, for example, uh, particularly uh, the Jewish, uh, uh, people from Russia. I think we could permit more of them in than we have permitted in the last, uh, several years. And, I think we have, uh, uh, too much restriction uh, on the Orientals also, but, of course, that's just my opinion. A: Yeah, well, I'm not real sure why I got this topic, because I don't think I checked it off on the list because I know very little about the current immigration laws.\",\n",
              "  \"B: boy, he's a big one. A: he's pretty big. That's why it really surprises me, you know, that he hasn't come back, because, like I said, he's never gone away like this before, and, I would think, you know, I mean, he might could get hurt by a car or something. I don't know that he could really get killed that easily because he is so big.\",\n",
              "  \"A: and then once they do get elected, they don't have the power or the authority or the willingness to do those things that they promised, you know, beforehand. B: Right. A: You know, maybe it just wasn't possible at all in the first place, you know, like the no new taxes thing. You know, that's, uh, with the economy going the way it is and everything, that was nearly ridiculous thing to, even try to do. B: Yeah.  Yeah. Well, I don't think he's going to have to worry about that next year.\",\n",
              "  \"A: Oh, oh yeah, and every time you see one hit on the side of the road you say is that my cat. B: Uh-huh. A: And you go crazy thinking it might be yours. B: Right, well I didn't realize my husband was such a sucker for animals until I brought one home one night.\",\n",
              "  \"B: And I don't think that rehabilitation is effective. A: Right. Have to agree with you, and I'm kind of in favor of capital punishment also. I just don't think that it acts much as a deterrent to these people because, uh, you still see them committing the same crimes,\",\n",
              "  \"A: so you hear so much, you get a little tired of it, but then again, so many people you got to understand only catch it once a day, maybe B: Yep. A: but I think the quality of uh, our news is just, uh, I don't believe it could be better\",\n",
              "  \"B: And I've worked in the hospital for fifteen years and I've taken care of a few AIDS patients. A: Uh-huh. B: Uh, when they asked us did we want to, uh, keep it the same or, uh, spend more, spend less, uh, I think right now what they're spending is adequate. Uh, for my personal opinion. Uh, because I think it's something that's going to take them a while to come up with a, uh, vaccine for. A: Yeah.  Uh-huh.  Uh-huh. B: I don't think it's going to be that easy to come up with\",\n",
              "  \"A: Yeah, they did. They put a lot of pressure on him from the outside and from the inside. Uh, it's funny watching them play, he's probably like a lot of quarterbacks, uh, when the pressure is really on when it's down to the last few minutes of the game for the season is when the guys seem to really do their best. B: Uh-huh. A: And I haven't quite figured that out, if they figure they have got it won or if there's no real hurry because the first three quarters or, uh, uh, if something happens that that adrenalin starts flowing.\",\n",
              "  \"A: Uh, well then you must know a lot more about this than I do. B: Uh, I think, uh, the system right now, you know, you know, is fine. I think it should be by a jury. I don't think the judge should have, I mean he's just there kind of like the referee. A: Uh-huh, Uh-huh. B: Uh, I don't even think that it should be unanimous either. Uh,\",\n",
              "  \"B: Uh-huh. It, I mean, I don't know, I don't think George Bush will make the American people happy with ninety-seven cents a week. A: No, no, not at all. B: I just don't think it was a well thought out incentive.\",\n",
              "  \"B: but I found that, uh, it was made of some material which actually ended up rusting uh, after, A: Oh. B: even, despite, you know, diligent washing, it got rusty after about, uh, three weeks of use. And I don't think it was my fault because you know, I had made a point of like drying it off and cleaning it\",\n",
              "  \"A: and if they weren't spending all the money on drug testing, people could have got a raise. So, see, you know, there's different, I think that's more of a personal view of mine other than a yes, sir, we should have drug testing because there's really a problem B: Uh-huh. A: and I know that. But then, I have other views to it. B: I didn't think it was that expensive because my son was in probably a week and a half period\",\n",
              "  \"B: I did, too. A: I mean, it was just more for my money. B: Yeah. I didn't think it was too long at all.\",\n",
              "  \"B: That's true. A: So. B: Uh, the other argument is that the death penalty is a deterrent and I really don't, uh, agree with that. I don't think anyone who would commit uh, a crime that would get them the death penalty would stop at the moment and say, well, I was about to kill and dismember this person but, oh, if they catch me they're going to kill me so I better not do it. I just, don't think uh, that it works that way. A: Yeah.  I don't think it's done.\",\n",
              "  \"B: But, uh, if the wind comes basically from the south it can be really bad. A: Uh-huh. B: Uh, the State of Wisconsin, as a matter of fact, uh, started some litigation against Illinois because of the air pollution we were getting. A: Uh-huh. B: Uh, I don't think it's going to go very far,\",\n",
              "  \"B: Yeah. Well, that's the guy that counts. A: Yes. But, maybe we'll get your guy. B: Oh, I don't think Jim Kelly is about to be swayed away from the Bills any time.\",\n",
              "  \"B: Yeah. How about Mister Rogers, is he still around? A: Yes. Yeah. They still show Mister Rogers. I don't think he's making new ones,\",\n",
              "  \"B: Yeah, and the ground will filter some of it but not all of it. A: No, not when you figure, I didn't realize one cow produces that much manure\",\n",
              "  \"A: Yeah, that's crazy. B: and then you come here in the Dallas area, um, I don't believe that people should be allowed to carry guns in their vehicles.\",\n",
              "  \"B: but if they get the little tiny kids saving it now, in five years, when they get bigger, it'll work a little bit more, too. A: Yeah.  True. B: Because it's, we've all got to do it right now. I just, I really amazed to find out that, eighty per cent are filled now, in garbage fills. In five years we're supposed to be at max. A: Uh-huh. B: I don't think I can keep my own garbage.\",\n",
              "  \"A: And, uh, I got to stay home with my kids, which I really wanted to do, but now I could not go back and do it. B: Yeah. A: I really couldn't, I don't think I could stay home all the time and do nothing.\",\n",
              "  \"A:  nanny, sort of? Uh-huh. Uh-huh. B: and you know, I could envision a society where that would happen and make an interesting, uh, uh, story or whatever. A: Yeah. B: I don't think I have a philosophical problem with that.\",\n",
              "  \"B: That was kind of a funny movie with, uh, Richard Dreyfuss and Bill Murray. A: Uh-huh. B: That was fun. A: Golly, I don't think that I've ever heard of that movie.\",\n",
              "  \"A: so it's nice to get away. It's just amazing, how much you miss. B: Yeah, it,  Yeah, it, yeah, it really is. I mean, I don't think I ever see the Little Dipper,\",\n",
              "  \"B: Yeah. It's, uh, I have modem night computer so I can log into the, uh, network at Georgia Tech and access my account through there, which can be useful. But, uh, yeah that and word processing is while I tend to, I mean, obviously, I do almost all of my report writing on my computer, uh, whether it's term papers or even some smaller homework assignments. A: Uh-huh. B: So it's I don't know, really become my mainstay I guess. I can't even remember, actually I don't think I've ever used a typewriter in my life to do a report. Because my family, when I was growing up, we got a basic computer. TRS Eighty when they first came out.\",\n",
              "  \"A: I am right outside Baltimore. I am less than a mile from the Baltimore line. B: Um. A: And I go to a campus of the University of Maryland that is just, less than a mile from my house. So I'm actually in Baltimore, yeah, you could say I'm in Baltimore.\",\n",
              "  \"B: Now see I. A: I'm intrigued by it, but I'm not sure I want to go see it yet. B: Yeah, I don't think I want to see that either.\",\n",
              "  \"A: Do you go to museums in Europe? B: Uh, actually, no, I don't think I went to any of them.\",\n",
              "  \"B: I wouldn't be surprised. A: You know, because they don't want to send them to daycare. B: I doubt if they would say it was too long.\",\n",
              "  \"A: But, uh, uh, I don't understand, I guess, why the schools seem to have such a high dropout rate in the big cities. B: Uh, well, I don't pretend to understand that either. Uh, but I'm not quite sure that it's the kind of thing that ought to be blamed on the schools. But then, again, I'm not quite sure where the blame ought to be put. Uh, because the dropout rate is, in those areas, w-, it's high in those areas where also there's poverty and crime. And they all seem to go together. And it seems like if you could eliminate one of the parts of that circle, where you have the dropout rate and crime and, you know, general poverty kind of conditions, that things ought to get better. So, uh, the other two a-, they're all three social issues and could be addressed by the government in any ways. And clearly, to me, is a kind of government thing to fix but it's just like, I don't expect them to know which part is best to fix just like I don't know. it's a complicated issue. I still don't think I would blame it directly on the school.\",\n",
              "  \"B: She says that when her husband died oh, that my uncle had said that he would never put her in a rest home. So it's kind of, uh, I don't know. I mean, I don't think my parents would but she is getting pretty bad like she has to have like a little toilet right by her bed and, it's, A: Uh-huh. B: and my mom has to take care of her pretty much so it gets, I don't know. it's a hard decision, but I don't think I would do it to my parents personally.\",\n",
              "  \"A: Big time there, sure is. B: It surely is. A: I don't think I'd go to work without a bulletproof vest on myself.\",\n",
              "  \"A: Well, presumably those who find out such information, if they are doing it, I would prefer to not to be known, and, I mean, you know, the classic, oh, I don't know C I  conspiracy theories or whatever, would have such parties trying to do it without your knowledge. So there's,, things that invade that second type of privacy where you do know about them and possibly things that invade that second type of privacy without you knowing about it, and I can't talk about the second one other than to generate paranoia. It's a surmise and, I'd like to think that it's quite low, at least in this country. B: to surmise. It is there. A: I don't think I'd like the KGB monitoring my phone or anything like that.\",\n",
              "  \"B: That might be kind of tough, huh. A: It really would, yes, yes, and like I said, my sister's still in it, and I really don't think my mother'd want to be there, either.\",\n",
              "  \"B: I mean, you can't guarantee that they wouldn't escape from prison and do it again. A: Right.  And then do it all over again.  Uh-huh. B: And I don't think that rehabilitation is effective.\",\n",
              "  \"B: Oh, well that's good. A: but she really doesn't. Nobody thought she would adjust,\",\n",
              "  \"B: What am I afraid of? A: Yes. B: Um, I don't know if I'm really afraid of spending too much. I just, uh, don't think that I need them, you know.\",\n",
              "  \"A: That's fairly interesting. B: I bet that would be, rather interesting. Uh, that's, uh, self improvement, well, that's kind of a hobby but it is self improvement from the standpoint of probably relaxing, uh. A: Yeah, I don't know that I read anything strictly labeled self improvement.\",\n",
              "  \"A: They might be, but not at the human factors level. they're, B: Well, I heard it on the news today, I could swear it was IBM.\",\n",
              "  \"A: But, uh, B: Okay.  Uh, uh, I've had one or two American cars I think, and they were okay. I had a Pontiac once and I never had a problem with it, but, uh, my mother had a Dodge at one point and I had driven it a few times and I really did not feel that I would buy a Dodge just from,\",\n",
              "  \"B: I think that not only applies inside the public school system, but in society itself. there's been too much negative reinforcement. How much, like, the caught being good slips. How about, just the John Q citizen out there on the street? A: Yeah, well that's true. I think, really though, I mean, that's one thing that, I mean, my kids definitely get spanked when they need to be spanked. But I really do try to use positive, uh, reinforcement with them at home, also. And it really helps. And I mean, they don't get spanked very often, but they do when they deserve it, you know. But, uh, I don't think any kid should be exempt from being spanked.\",\n",
              "  \"B: I understand we are doing care of the elderly, right? A: Yes. B: And how do you feel about putting someone in the nursing home? A: Well, I don't think that uh, any of my relatives would really like to go there.\",\n",
              "  \"A: It's divided, yeah. B: Wow! A: It really is, so we've got our Cowboys here and, uh, I don't think anybody roots differently\",\n",
              "  \"B: if you get it on sale, A: Yeah, yeah, so we bought that or we bought the filets, and then the chicken, or turkey nuggets, and I don't think anybody in my house knows the difference, unless you tell them.\",\n",
              "  \"A: Have you followed that very much or, B: Uh, not really. I don't think anything will ever take over the NFL.\",\n",
              "  \"B: All right, well. A: Um, short term, I don't think anything's going to be done about it or probably should be done about it.\",\n",
              "  \"A: Oh, yes. Animals have a way of talking. B: Alfie did. I tell you if I could have gotten a hold of that cat that day. A: I don't know uh, that I'd trade my dog in for the world.\",\n",
              "  \"A: but at the same time I think it would do them a world of good. B: Yeah. A: But there's a, B: I don't know that you could require everyone yeah, to do it for a whole year, or two years or something like that,\",\n",
              "  \"A: I got a friend who goes there, by the way. I want to talk to you about that afterward, okay. B: Okay. Uh, I've, the high school I went to uh, was a good one also. And well, I guess you could say one of the problems with the public education system is the disparity between different schools.\",\n",
              "  \"A: They have to for international trade. B: Yeah. A: But, I guess it's easier to switch back and forth than it used to be, uh, because uh, of computers coming into everything. B: Uh-huh. Yeah, I don't think switching back and forth is that big a deal.\",\n",
              "  \"A: And now it's election time again so they're trying to lower them. B: Oh. A: So they're just talk about lowering them but they never do, they just keep raising them. B: I've never seen taxes really go down.\",\n",
              "  \"B: they did things for people, you know, for their communities, for their, uh, families, for their friends, where now, I'm not sure they really do. A: Yes.  Yeah. Well, I think sometimes through groups and organizations, um, uh, when they asked the question I thought, well that sounds wonderful. And then, I wondered if people were unwilling but I think even if you went in with a negative attitude I don't think it would stay negative very long.\",\n",
              "  \"B: And, you know, the whole electronic classroom idea. I don't know if I I'm yeah, in favor of, yeah, A: I don't think that's going to work.\",\n",
              "  \"B: Right. And they repacked the wheel bearings. A: and they repacked the the wheel bearings. Yeah but, uh, I've had considerable experience. you might say I'm, uh, uh, good back yard mechanic\",\n",
              "  \"A: Uh, well, it would depend on when you go it's not excessively crowded on the weekends. B: See I'd want to be there in the mornings like from nine thirty to ten thirty. A: Oh, I don't think that would be bad at all.\",\n",
              "  \"B: I think in s-, and it, just would depend upon the circumstances and the extent of the abuse and if another alternative was available. A: Uh-huh.  Uh-huh.  Um.  Uh-huh. You know, now, I wonder what you think about this and, uh, unfortunately, we don't get to do it, but, uh, it used to be a long time ago, I guess in Biblical times when they had punishment, if somebody did something, for example, to your family, then you had the right to administer the punishment. So if somebody killed somebody in your family, then uh, if that person was caught and found guilty, you had the right to, uh, execute that person. And I know that, uh, if somebody had done something to my family, I would feel that I had the right to get revenge on them uh, but, I don't think that's done much anywhere.\",\n",
              "  \"A: I spend a lot of time reading about these things. I'm quite interested. I find it very exciting for the coverage we have now, today. B: Yes and I think we do get pretty good coverage. I don't feel that the American people is being shortchanged by uh, the news coverage.\",\n",
              "  \"B: Uh, uh, I've had one or two American cars I think, and they were okay. I had a Pontiac once and I never had a problem with it, but, uh, my mother had a Dodge at one point and I had driven it a few times and I really did not feel that I would buy a Dodge just from, A: Um. B: well, actually, I had uh, a Dodge Omni at one point A: Uh-huh. B: and that was, I think, what really prejudiced me against American cars because I did not feel that it was a very quality, uh, car.\",\n",
              "  \"A: uh, but then when you quantify things and might also hold criminal trials for how many years is appropriate, uh, that they might leave it to somebody else who, uh, has expertise in that. B: Right, I agree, too. I don't think the jury should be the ones that put the sentencings down.\",\n",
              "  \"A: Boy that's scary, isn't it. B: Oh, can you imagine, because it happens in the middle of the night, so you know, these parents didn't know the kid was gone until the kid is knocking on the door screaming, let me in.\",\n",
              "  \"B: Oh, I see. A: um, and I think I'm getting a better caliber of student at the private school, because I think their parents pay more, and I think the kids are a little bit more challenged, because their parents are probably college educated, where at the public school, I don't think as many parents are college educated,\",\n",
              "  \"B: I think that not only applies inside the public school system, but in society itself. there's been too much negative reinforcement. How much, like, the caught being good slips. How about, just the John Q citizen out there on the street? A: Yeah, well that's true. I think, really though, I mean, that's one thing that, I mean, my kids definitely get spanked when they need to be spanked. But I really do try to use positive, uh, reinforcement with them at home, also. And it really helps. And I mean, they don't get spanked very often, but they do when they deserve it, you know. But, uh, I don't think any kid should be exempt from being spanked. I mean, I think I wouldn't mind if a teacher spanked my child. But, you know, that's just my personal opinion, and that's not going to, I mean, I don't think that law will ever change.\",\n",
              "  \"B: but, uh, I can definitely, uh, see on down the road, you know, where we do have kids and are getting to that age, that's going to be a definite concern. A: Yeah, you talked before, about the school funding. I think there's only going to be one solution to school funding which I don't think will be necessarily the best way\",\n",
              "  \"A: I think so, I think, B: I really do. Oh, yeah, it's going to take, uh, you know, the police, I don't think can do it alone, you know.\",\n",
              "  \"A: How do you feel about that. B: I don't really, I more, I don't know about the government as much as, uh, the people, uh, I wouldn't consider to be a threat at all and I really don't feel much like the Soviet Union itself is a threat anymore.\",\n",
              "  \"B: That's what I've heard too. Uh, A: It seems bizarre to me. I don't quite understand it, although I think probably the worst thing that's happening at least the modern world today, is television.\",\n",
              "  \"B: I think the, uh, I think a lot of the commentators on, like the major networks, like right, it's kind of appropriate right now because of the election stuff going on, but, um, it seems that, um, they kind of get to throw their opinions into how they, you know, report on the news. A: Right. And I think even in the elections, they choose who they're going to follow and who they're not, and basically you know, if a candidate can get them to follow, then the news will, you know, kind of publicize his name. B: Yeah.  Yeah, exactly. A: I don't think that the way I get the news is the right way to get it.\",\n",
              "  \"B: Well, you've got, well, any of the big cities you've got the different rival gangs and they're having their little turf wars over their little drug kingdoms and such, A: Uh-huh. B: And they get out their little Mac tens, they get out their little uzis and they're going to fight with them. And it doesn't matter what restrictions you put on that type of weapon or a class three firearm. If they want it they'll get it. I don't care if they've got to go down into New Mexico to get it they'll get it and they'll get across the border. Now my position, although, I have absolutely no use for a fully automatic weapon, anyway. A: Uh-huh. B: Since I am a law-abiding citizen and I have never had a felony, if I wanted to buy one, I don't think there should be that big of a restriction on it.\",\n",
              "  \"B: Uh, with regard uh, to jury trials. I really feel as though, uh, uh, whatever system has been used historically, in particular jurisdiction, you know, is really the only kinds of things that you can use. Because the jurisprudence is, you know, based uh, you know, on accumulated body of law. And if you have a situation where you change that body of law, then all of sudden they could start going back and digging up all these cases uh, that would be handled differently were they judged by today's standards. So I really don't think they can really do much of anything to change it.\",\n",
              "  \"B: Right, you know, like In packaging A: Yeah. B: and, uh, you know, just goodness. A: Yeah, I don't think they do the packaging at this plant,\",\n",
              "  \"A: The one thing I sometimes wonder about, um, in civil cases is, uh, whether, especially sort of in, uh, maybe like product liability, or medical malpractice, where there's, um, sort of a very technical decision to be made sometimes B: Yes. A: you know, it's not just a matter um, of, you know, did this guy rip off this guy, and it's just a matter of interpreting a contract, it's sort of a matter of, um, you know, sometimes getting into very technical issues, and I wonder um, if the system works adequately in educating the jurors about, uh, whatever, um, you know, issue is under discussion. B: I don't think that they educate them enough to really know what's going on.\",\n",
              "  \"B: The kind you have sounds very interesting, though. A: Well, um, they're really sweet dogs. uh, we thought probably our neighborhood in Houston had more of this breed than any other place just because of, um, the family that had them and bred them.\",\n",
              "  \"B: You know, back around, you know, in the twenties and thirties when they were growing up, uh, you know, they were all located together, in one small community. A: Right, right.  Right. B: And I mean when time went on the family grew and moved away and so forth. And now when they come together it's generally, you know, like say the kids of those people who are not, you know, anywhere near one another and I do not think they feel the closeness that they used to be there. Which is a shame\",\n",
              "  \"A: it was so fattening. B: That sounds good. A: But, I don't think we gained any weight from it\",\n",
              "  'A: but that is one of my solutions. Uh... B: I know here in Dallas that they have just instituted in the last couple of years, uh, a real long period of time that you can absentee vote before the elections. And I do not think they have seen a really high improvement.',\n",
              "  \"B: And, uh, I think they've all developed kind of an interest in reading also. A: That's re-, yeah. B: I'm not saying they read all the right things\",\n",
              "  \"B: I look at our big green containers, and I say, well, they work fine and I keep mine outside the garage so that I don't have any odors but it's clearly a place where, uh, uh, A: Oh, right. B: it will be interesting to see how well that works and I'm glad the community is doing it. Uh, it's one of those things that kind of has to be forced on people. Uh, I don't know what you saw back, uh, years ago, but for me the thing that strikes me is uh, growing up in rural South Dakota where, hey the farmers brought their eggs to town and the local hatchery would candle them and package them is that, uh, in the fifties, uh, you could say we had the recycling going on then that we should have now. Which was all the milk bottles were glass\",\n",
              "  \"B: And they go down the line ten years and then on some little technicality they get out and on the streets again doing the same they did before. A: Uh-huh. B: And, you know, that's about the only thing. Like for theft and stuff like that or manslaughter, you know, I don't think they should do that.\",\n",
              "  \"A: Oh, wow! But maybe you shouldn't be held responsible for something you did several years ago. B: So,  I know. A: That's the other thing. I mean a lot of people as kids or, you know, young people get into some things that they get out of later on and I don't think they should really have to pay for that forever.\",\n",
              "  \"B: Uh, I have, uh, I guess a lot of thoughts about the Vietnam War, um, I guess I feel like I was pretty young while it was going on and so there's probably a lot of things I remember and a lot of things that I really didn't have a clue as to what was happening. B: Yeah. A: Um, looking back, like maybe some of the things that I know now, I'm not sure I do believe it was worth the cost in dollars and lives. That was one of the questions that she asked us to think about, because we never went to war. I don't think we were committed to winning it and getting out\",\n",
              "  \"B: um, they try to encourage you to follow a specific curriculum, although you don't have to. A: Uh-huh. B: And then if you have particular religious beliefs they're kind of monitored. You know, they will allow you to, I can't think of any examples but certain religious groups don't want their children in public schools because the influence. And maybe they were a group of Mennonites or something like that. A: Uh-huh. B: I don't think they're were in this area\",\n",
              "  \"A: I, that would have been stupid, B: Yeah. A: and I don't think we did it. Everything else we handled in this seemed to be perfectly right. I don't think they would have done that.\",\n",
              "  \"A: I really don't. But no, when the time comes hopefully we'll really look around before I decide on one for my parents B: Uh-huh. A: really do, because I have been raised in one, you know, so there's lot of things I know to look for. B: Yeah. A: And I don't think they'd want to go where they used to work, either you know.\",\n",
              "  \"B: And as far as like them, uh, entertaining the rights that they should have. A: Uh-huh. B: I mean, we educate them, we feed them, we take care of them and they no sooner get out on the street and they're back in again. A: Uh-huh. B: I'm not saying they're all bad,\",\n",
              "  \"A: Yeah, you're probably right, two years might be a little too long. B: Yeah, and there will be a lot of rebellion in that and when you get people who have no desire to be there in the first place, I don't think that they're going to be serving anybody.\",\n",
              "  \"A: How did Radio Shack work? B: If you go in and buy anything they want your phone number. And I don't think they're going to call me and ask me how it's functioning,\",\n",
              "  \"B: So, let's talk about the, uh, wonderful abuses in the State of Pennsylvania of personal property taxes whereby you can purchase something mail order and after the fact, the State of Pennsylvania can find out about it and send you a bill for the sales tax appropriate to that item that you purchased as well as interest and penalties from the time that you bought it. What do you think? Is Pennsylvania kind of out of line there? A: Well, actually, I do n't think they're out of line.\",\n",
              "  \"A: I do too. I believe about ten years ago that we went through a terrible time, but I don't, I believe that they're better now, you know, wh-, B: I think so. I don't think they're shoddy\",\n",
              "  \"B: you know, sometimes I would go over, but you know, it wouldn't hit me in a big way because I knew that, uh, I would have it covered in that respect. A: Right.  Right. That's good. I don't think we've gone that far, to pay it you know, in advance before we spend it,\",\n",
              "  \"A: but, it was interesting to, I don't know if they're making them better or not, it's hard to say. I think they more of their parts plastic, which, you know, makes things break easier, but I think the technology is better. B: I think technology is better, I'm not sure. I think you've got a good point with the plastic and that. A: About quality. B: I don't think necessarily that, things are being made better uh, you know,\",\n",
              "  \"A: It was just a side benefit. B: Yeah, yeah, because, I'm not big or anything, but I'm not in great shape, But when I worked out, I got in pretty good shape. I didn't build up muscle, though, I just got real good and toned. A: Yeah. B: I don't think women look good with muscles.\",\n",
              "  \"B: All right, well. A: Um, short term, I don't think anything's going to be done about it or probably should be done about it. B: Right.  Uh, are you saying you don't think anything should be done in the short term?\",\n",
              "  \"B: Right. And I'm sure that would make a big difference, too. You know, you've got, A: Yeah. Well, what about a voluntary program? Do you think that would be a good idea?\",\n",
              "  'B: So again, it never really penalizes, the company doing the wrong. A: Right. That will, B: They can go right on doing the same old thing they always used to. A: Huh. B: And if they know some practice is wrong, you know,',\n",
              "  \"A: Um, yeah, I guess that's not an easy solution. there's no easy solution for that. B: Uh-huh.  I don't know that there is an easy solution, but if you could find a way to prevent some of it, and I'm not sure what it would be. It would be money better spent than, A: Uh-huh. B: do you know it costs more to keep an inmate on death row than it does to send a kid to Harvard?\",\n",
              "  \"B: So am I. A: Are you, B: You know, I think it's kind of coming back around to that, don't you,\",\n",
              "  \"A: I thought Carter was good too, and that was, yeah, B: Did you? I always liked him, I thought he was great at the time and I just couldn't get over the fact that Reagan beat him. you know, that I just couldn't believe that he got voted out.\",\n",
              "  \"A: Well I, uh, when is your next one, uh, scheduled now. B: Well it's like, the last one was my high school graduation the next one was when I graduated from college, so I guess about two more years. A: Yes, well, and do you think you'll have a baby to take back with you.\",\n",
              "  \"A: Uh, I saw Seven Eleven that was hiring. B: Well, I'm sure with the new, uh, contract awarding I think it went to Lockheed, didn't it?\",\n",
              "  'B: and both of those seem very easy to use compared to D Base. A: Uh-huh. Do you think D Base is more flexible or allows you to do more. Or do you think the others are pretty much compatible these days?',\n",
              "  \"B: Uh-huh. So, yeah, that's the thing is just to look at the school system in the area that you move into before you. A: Uh-huh. Of course we have a slight problem in that, uh, the number of the illiterate in America is mushrooming at this point, and, uh, you know, where our kids might be in a great school, we're still paying an awful lot of taxes for people who are on welfare and unemployment because they can't read, you know. B: Uh-huh. A: So. B: But do you think that there should be, um, nationwide, um, curriculum?\",\n",
              "  \"A: So, we're comparable. B: Yeah. A: As a matter of fact, I just paid my Richardson taxes because I live in Richardson and supplemented the Robin Hoods very thoroughly, I think. B: Yeah, I think Yeah, we have got it on the line, don't we.\",\n",
              "  \"A: Sometimes you hear things on the radio that, you know, could be true or couldn't be. B: Uh-huh. A: Uh, do you feel like this is, I guess they're spending a billion or so a year on this AIDS research. B: Uh-huh. A: Do you think they should spend more?\",\n",
              "  \"B: when you've lost something or uh, uh, don't have what other people have that's when you tend to realize, you know, what's out there and you know, what you have and what you don't have. A: Yeah I agree. B: So the original question, do we think they're you know, a security threat?\",\n",
              "  \"A: Well, I don't know, uh, I have a hard time getting, uh, people on the telephone. B: Oh really. A: Uh-huh, getting through to anybody. Sometimes I call off and on all day, B: Huh. A: but anyway, uh, I guess we're supposed to be talking about family reunions aren't we.\",\n",
              "  \"A: Yeah. The radio doesn't really have much news sometimes. The stations I listen to are just mainly music. B: Yeah, I think you pretty much have to listen to all news station to get any news at all. A: Yeah. Do you think that TV is, uh, pretty accurate.\",\n",
              "  \"A: No, not really. I spends a lot of time with our income tax, though. especially, this year and last year. Um, I have been married for just a few years, so I've had to really switch around from the EZ form to the, uh, B: Schedule A. A: Right. B: Well, yeah. A: All the deductions and all that. B: Did you notice that when they passed the new simplified tax act, it seemed like it made everything harder?\",\n",
              "  \"A: Yeah, it's interesting because, uh, we're just having conversation on this, uh, with a couple of people yesterday. And I was expressing my frustrations that, uh, so many problems, I work in a high school, are that kids don't have a degree of self-discipline which may be reflected in society at large. Uh, and you can't expect in a classroom for a particular course an hour a day to counteract, uh, sixteen or seventeen years of influence at home. B: Right. A: Um, and, it's seen more so because when you call parents up, many parents won't even recognize that there is a problem and they'll say, oh, well, my kid, I've never heard anything about this before. This is the first time there have been problems. and, you wonder, don't these parents know that teachers talk,\",\n",
              "  \"B: What you want. where do they get it?. A: Well, I don't know, I guess they don't have it at home, B: I can't imagine it would stay fresh long enough to,\",\n",
              "  \"B: so there's only been really one working. A: Uh-huh, same here. Uh-huh. B: And, uh, it works for me but I can't see that it would work for probably the majority of people.\",\n",
              "  \"B: Well, that's kind of the way I feel about rock and roll sometimes, too, I guess. They don't really, has kind of the same sound over and over, and the other thing I don't like about it is they have a tendency to play the instrumental so loud that you can't understand what the lyrics are A: Um. Right. B: you can't understand what they're saying on some of those songs which probably is just as well on some of them, too. A: Yeah. And I can't say that I like a lot of the very modern, uh, rock and roll,\",\n",
              "  \"A: so I watch the fish, you know. Whatever I can do to keep myself occupied. I like to have the TV on, because that usually keeps me, um, more occupied. It kind of takes the time away and I don't realize, that's really the only time I ever watch TV, is when I'm on the bike. and then usually after I'm done riding the bike, just to cool myself down, I usually take a walk, you know, and that just kind of uh, gets me, you know, to where I'm not quite as tired I guess. But it's definitely a task. B: You think so? A: I can't say that I really enjoy it.\",\n",
              "  \"B: No, it was, I didn't like the way it ended. A: I know, well the only reason I know why it ended is on Arsenio Hall one night, Christopher Reeves told, that, you know, B: Uh-huh. A: I can't believe they killed them.\",\n",
              "  \"B: Yeah. Those are pretty. A: Number one turned out just great, and the lady said she couldn't believe that they know that I had done it in the color that they had decorated the nursery\",\n",
              "  \"A: That is the reason, I don't play over there. B: Yeah. A: I like the course, but I don't play over there because, they don't, uh, you know don't allow you to pull a cart. B: Right. A: And, I don't think a cart damages the turf.\",\n",
              "  'B: I do not know. I wonder where he gets it? You know, you must, I think TV is bad. Because they, uh, show all sorts of violence on, A: That and I do not think a lot of parents, I mean, I do not know how it is in the Air Force base. But, uh, I just do not think a lot of people, because of the economy, both need to work, you know. I just do not think a lot of parents are that involved any more.',\n",
              "  \"A: Highland Park's thinking about going that route. B: Uh-huh. A: So it, and then I think that's going to push teachers to dress a lot more professionally than they do. B: Yeah, I don't think a lot of teachers are very professional\",\n",
              "  \"A: Yeah, I think that's what aggravates a lot of people, is somebody does get a life sentence in place of the death penalty, and they wind up back on the streets after five years or six years or like the kid on the news tonight out in Mesquite who was out in six months.. B: Uh-huh. Yeah, it's just our criminal system is just so, I guess, overloaded, but the problem is not so much with the prison system, you know, I mean, because the cops are out there doing their job enforcing the laws, and the prison system are just, you know, they're trying to cope with them, but, you know, the thing about capital punishment I, you know, a lot of people don't think it would be a deterrent, uh, to future crime,\",\n",
              "  \"A: or you know, it doesn't seem that it's going to make much of a difference. B: Uh-huh. It, I mean, I don't know, I don't think George Bush will make the American people happy with ninety-seven cents a week.\",\n",
              "  \"B: Well, I was never there for any sentencing. Uh, I finally got empaneled on one case, uh, on my next to the last day, and, uh, we got into the, uh, jury room to, uh, decide the case, and there was one guy on the jury who announced to everybody that he didn't need to deliberate, because he'd already decided that the guy was, uh, not guilty, and he would never vote for guilty. A: Huh. B: So, uh, they appointed me jury foreman and I, uh, didn't think that, uh, going in without deliberating allowed us to reach a verdict,\",\n",
              "  \"B: And the tanks came in and, you know, pretty much took care of that. A: Exactly. B: And, A: Yeah, uh, that, personally I don't see as Gorbachev as being maybe a threat, and I think he's actually, honestly trying to do some change. B: Uh-huh. A: But I don't believe that he, in this first pass around, you know, being the first one to really turn things around or attempt to is going to be allowed to get away with it either.\",\n",
              "  \"Robert Erwin, president of Biosource, called Plant Genetic's approach ``interesting'' and ``novel,'' and ``complementary rather than competitive.'' ``There is a large market out there hungry for hybrid seeds,'' he said. Mr. Robinson of Delta & Pine, the seed producer in Scott, Miss., said Plant Genetic's success in creating genetically engineered male steriles doesn't automatically mean it would be simple to create hybrids in all crops.\",\n",
              "  \"His attorneys claim he was framed by the FBI and New York police as part of a campaign to destroy the black liberation movement of the 1960s. Because the federal Freedom of Information Act wasn't law at that time, the FBI wasn't required to turn over information on its investigations when Mr. Ferguson appealed his conviction in the 1960s. But in federal court in Manhattan, Judge Patterson said the FBI records could show that Mr. Ferguson's arrest was the result of questionable legal practices.\",\n",
              "  \"The trend toward lower rents may seem surprising given that some communities in New York are bemoaning the loss of favorite local businesses to high rents.  But, despite the recent softening, for many of these retailers there's still been too big a jump from the rental rates of the late 1970s, when their leases were signed. Certainly, the recent drop in prices doesn't mean Manhattan comes cheap.\",\n",
              "  \"The South Korean government is signing a protocol today establishing formal diplomatic relations with Poland. The two are also signing a trade agreement. South Korean government officials said they don't expect that Seoul can loan money to Warsaw, but it can ``offer experience.''\",\n",
              "  \"In finding ``good news'' in Berkeley's new freshman admissions plan (``The Privileged Class,'' editorial, Sept. 20), you're reading the headline but not the story. The plan indeed raises from 40% to 50% the number of freshmen applicants admitted strictly by academic criteria. But that doesn't mean ``half of the students attending Berkeley'' will be admitted this way.\",\n",
              "  \"GM confirmed it received U.S. antitrust clearance to boost its holding. Sansui Electric agreed to sell a 51% stake to Polly Peck of Britain for $110 million. Still, analysts said the accord doesn't suggest Japan is opening up to more foreign takeovers.\",\n",
              "  'So who knows? In a generation or two some of the New Crowd may attain true respectability, perhaps to be displaced in turn by a later flock of unscrupulous raptors. Or perhaps Wall Street, when it has suffered enough, will realize that finance is a service industry, and change its ethos.',\n",
              "  \"Richard Breeden had n't noticed that his new desk had just four telephone lines and one phone .\",\n",
              "  \"The city's Campaign Finance Board has refused to pay Mr. Dinkins $95,142 in matching funds because his campaign records are incomplete.  The campaign has blamed these reporting problems on computer errors. And, says Mr. Dinkins, he didn't know the man his campaign paid for a get-out-the-vote effort had been convicted of kidnapping.\",\n",
              "  \"Under the Racketeer Influenced and Corrupt Organizations law, or RICO, the government has the authority to seek to freeze or seize a defendant's assets before trial.  According to individuals familiar with Mr. Antar's case, prosecutors issued their warning this week after one of Mr. Antar's attorneys asked whether legal fees might be subject to seizure. In a letter, prosecutors told Mr. Antar's lawyers that because of the recent Supreme Court rulings, they could expect that any fees collected from Mr. Antar may be seized.\"])"
            ]
          },
          "execution_count": 17,
          "metadata": {},
          "output_type": "execute_result"
        }
      ],
      "source": [
        "type(dataset), dataset, dataset[\"train\"][\"premise\"]"
      ]
    },
    {
      "cell_type": "code",
      "execution_count": null,
      "metadata": {
        "colab": {
          "base_uri": "https://localhost:8080/"
        },
        "id": "ifu4q5IJ-hYI",
        "outputId": "429a2e8c-f3e3-4740-ecd4-fa48189f4812"
      },
      "outputs": [
        {
          "data": {
            "text/plain": [
              "{'hypothesis': Value(dtype='string', id=None),\n",
              " 'idx': Value(dtype='int32', id=None),\n",
              " 'label': ClassLabel(num_classes=3, names=['entailment', 'contradiction', 'neutral'], names_file=None, id=None),\n",
              " 'premise': Value(dtype='string', id=None)}"
            ]
          },
          "execution_count": 15,
          "metadata": {
            "tags": []
          },
          "output_type": "execute_result"
        }
      ],
      "source": [
        "dataset['train'].features"
      ]
    },
    {
      "cell_type": "markdown",
      "metadata": {
        "id": "uVa3Vk0QdNYI"
      },
      "source": [
        "Now, we need to encode all dataset samples to valid inputs for our `bert-base-uncased` model. Using `dataset.map()`, we can pass the full dataset through the tokenizer in batches:"
      ]
    },
    {
      "cell_type": "code",
      "execution_count": null,
      "metadata": {
        "colab": {
          "base_uri": "https://localhost:8080/"
        },
        "id": "hEnRCQfE_Oi3",
        "outputId": "34d18f5f-baac-4d6a-8900-111748433209"
      },
      "outputs": [
        {
          "name": "stderr",
          "output_type": "stream",
          "text": [
            "Loading cached processed dataset at /root/.cache/huggingface/datasets/super_glue/cb/1.0.2/41d9edb3935257e1da4b7ce54cd90df0e8bb255a15e46cfe5cbc7e1c04f177de/cache-e30f5a8850c231d1.arrow\n",
            "Loading cached processed dataset at /root/.cache/huggingface/datasets/super_glue/cb/1.0.2/41d9edb3935257e1da4b7ce54cd90df0e8bb255a15e46cfe5cbc7e1c04f177de/cache-185b7ced0a635e54.arrow\n",
            "Loading cached processed dataset at /root/.cache/huggingface/datasets/super_glue/cb/1.0.2/41d9edb3935257e1da4b7ce54cd90df0e8bb255a15e46cfe5cbc7e1c04f177de/cache-3efe51a43ae4e2a3.arrow\n"
          ]
        }
      ],
      "source": [
        "from transformers import BertTokenizer\n",
        "\n",
        "tokenizer = BertTokenizer.from_pretrained(\"bert-base-uncased\")\n",
        "\n",
        "def encode_batch(batch):\n",
        "  \"\"\"Encodes a batch of input data using the model tokenizer.\"\"\"\n",
        "  return tokenizer(\n",
        "      batch[\"premise\"],\n",
        "      batch[\"hypothesis\"],\n",
        "      max_length=180,\n",
        "      truncation=True,\n",
        "      padding=\"max_length\"\n",
        "  )\n",
        "\n",
        "# Encode the input data\n",
        "dataset = dataset.map(encode_batch, batched=True)\n",
        "# The transformers model expects the target class column to be named \"labels\"\n",
        "dataset.rename_column_(\"label\", \"labels\")\n",
        "# Transform to pytorch tensors and only output the required columns\n",
        "dataset.set_format(type=\"torch\", columns=[\"input_ids\", \"attention_mask\", \"labels\"])"
      ]
    },
    {
      "cell_type": "markdown",
      "metadata": {
        "id": "TsXEy1TNeAnI"
      },
      "source": [
        "New we're ready to setup AdapterFusion..."
      ]
    },
    {
      "cell_type": "markdown",
      "metadata": {
        "id": "Xs21MzEQ_0v4"
      },
      "source": [
        "## Fusion Training\n",
        "\n",
        "We use a pre-trained BERT model from HuggingFace and instantiate our model using `BertModelWithHeads`."
      ]
    },
    {
      "cell_type": "code",
      "execution_count": null,
      "metadata": {
        "colab": {
          "base_uri": "https://localhost:8080/"
        },
        "id": "fnq8n_KP_3aX",
        "outputId": "04b34ee7-6faf-4226-9b31-9fc39fcf15c4"
      },
      "outputs": [
        {
          "name": "stderr",
          "output_type": "stream",
          "text": [
            "Some weights of the model checkpoint at bert-base-uncased were not used when initializing BertModelWithHeads: ['cls.predictions.bias', 'cls.predictions.transform.dense.weight', 'cls.predictions.transform.dense.bias', 'cls.predictions.decoder.weight', 'cls.seq_relationship.weight', 'cls.seq_relationship.bias', 'cls.predictions.transform.LayerNorm.weight', 'cls.predictions.transform.LayerNorm.bias']\n",
            "- This IS expected if you are initializing BertModelWithHeads from the checkpoint of a model trained on another task or with another architecture (e.g. initializing a BertForSequenceClassification model from a BertForPreTraining model).\n",
            "- This IS NOT expected if you are initializing BertModelWithHeads from the checkpoint of a model that you expect to be exactly identical (initializing a BertForSequenceClassification model from a BertForSequenceClassification model).\n"
          ]
        }
      ],
      "source": [
        "from transformers import BertConfig, BertModelWithHeads\n",
        "\n",
        "id2label = {id: label for (id, label) in enumerate(dataset[\"train\"].features[\"labels\"].names)}\n",
        "\n",
        "config = BertConfig.from_pretrained(\n",
        "    \"bert-base-uncased\",\n",
        "    id2label=id2label,\n",
        ")\n",
        "model = BertModelWithHeads.from_pretrained(\n",
        "    \"bert-base-uncased\",\n",
        "    config=config,\n",
        ")"
      ]
    },
    {
      "cell_type": "markdown",
      "metadata": {
        "id": "BDCNJzTXezcn"
      },
      "source": [
        "Now we have everything set up to load our _AdapterFusion_ setup. First, we load three adapters pre-trained on different tasks from the Hub: MultiNLI, QQP and QNLI. As we don't need their prediction heads, we pass `with_head=False` to the loading method. Next, we add a new fusion layer that combines all the adapters we've just loaded. Finally, we add a new classification head for our target task on top."
      ]
    },
    {
      "cell_type": "code",
      "execution_count": null,
      "metadata": {
        "id": "jRqbBgS0BoHJ"
      },
      "outputs": [],
      "source": [
        "from transformers.adapters.composition import Fuse\n",
        "\n",
        "# Load the pre-trained adapters we want to fuse\n",
        "model.load_adapter(\"nli/multinli@ukp\", load_as=\"multinli\", with_head=False)\n",
        "model.load_adapter(\"sts/qqp@ukp\", with_head=False)\n",
        "model.load_adapter(\"nli/qnli@ukp\", with_head=False)\n",
        "# Add a fusion layer for all loaded adapters\n",
        "model.add_adapter_fusion(Fuse(\"multinli\", \"qqp\", \"qnli\"))\n",
        "model.set_active_adapters(Fuse(\"multinli\", \"qqp\", \"qnli\"))\n",
        "\n",
        "# Add a classification head for our target task\n",
        "model.add_classification_head(\"cb\", num_labels=len(id2label))"
      ]
    },
    {
      "cell_type": "markdown",
      "metadata": {
        "id": "60qIas8-il92"
      },
      "source": [
        "The last preparation step is to define and activate our adapter setup. Similar to `train_adapter()`, `train_adapter_fusion()` does two things: It freezes all weights of the model (including adapters!) except for the fusion layer and classification head. It also activates the given adapter setup to be used in very forward pass.\n",
        "\n",
        "The syntax for the adapter setup (which is also applied to other methods such as `set_active_adapters()`) works as follows:\n",
        "\n",
        "- a single string is interpreted as a single adapter\n",
        "- a list of strings is interpreted as a __stack__ of adapters\n",
        "- a _nested_ list of strings is interpreted as a __fusion__ of adapters"
      ]
    },
    {
      "cell_type": "code",
      "execution_count": null,
      "metadata": {
        "id": "zgGqHJQbijgg"
      },
      "outputs": [],
      "source": [
        "# Unfreeze and activate fusion setup\n",
        "adapter_setup = Fuse(\"multinli\", \"qqp\", \"qnli\")\n",
        "model.train_adapter_fusion(adapter_setup)"
      ]
    },
    {
      "cell_type": "markdown",
      "metadata": {
        "id": "Fb8BY5RAmzkd"
      },
      "source": [
        "For training, we make use of the `Trainer` class built-in into `transformers`. We configure the training process using a `TrainingArguments` object and define a method that will calculate the evaluation accuracy in the end. We pass both, together with the training and validation split of our dataset, to the trainer instance."
      ]
    },
    {
      "cell_type": "code",
      "execution_count": null,
      "metadata": {
        "id": "j0gFxQRdDkQ6"
      },
      "outputs": [],
      "source": [
        "import numpy as np\n",
        "from transformers import TrainingArguments, AdapterTrainer, EvalPrediction\n",
        "\n",
        "training_args = TrainingArguments(\n",
        "    learning_rate=5e-5,\n",
        "    num_train_epochs=5,\n",
        "    per_device_train_batch_size=32,\n",
        "    per_device_eval_batch_size=32,\n",
        "    logging_steps=200,\n",
        "    output_dir=\"./training_output\",\n",
        "    overwrite_output_dir=True,\n",
        "    # The next line is important to ensure the dataset labels are properly passed to the model\n",
        "    remove_unused_columns=False,\n",
        ")\n",
        "\n",
        "def compute_accuracy(p: EvalPrediction):\n",
        "  preds = np.argmax(p.predictions, axis=1)\n",
        "  return {\"acc\": (preds == p.label_ids).mean()}\n",
        "\n",
        "trainer = AdapterTrainer(\n",
        "    model=model,\n",
        "    args=training_args,\n",
        "    train_dataset=dataset[\"train\"],\n",
        "    eval_dataset=dataset[\"validation\"],\n",
        "    compute_metrics=compute_accuracy,\n",
        ")"
      ]
    },
    {
      "cell_type": "markdown",
      "metadata": {
        "id": "iKlYjA9rm2Kp"
      },
      "source": [
        "Start the training 🚀 (this will take a while)"
      ]
    },
    {
      "cell_type": "code",
      "execution_count": null,
      "metadata": {
        "colab": {
          "base_uri": "https://localhost:8080/",
          "height": 114
        },
        "id": "vSUs2FjXDmsx",
        "outputId": "934e087a-8b31-4861-c9d1-854290dd3c4c"
      },
      "outputs": [
        {
          "data": {
            "text/html": [
              "\n",
              "    <div>\n",
              "        <style>\n",
              "            /* Turns off some styling */\n",
              "            progress {\n",
              "                /* gets rid of default border in Firefox and Opera. */\n",
              "                border: none;\n",
              "                /* Needs to be in here for Safari polyfill so background images work as expected. */\n",
              "                background-size: auto;\n",
              "            }\n",
              "        </style>\n",
              "      \n",
              "      <progress value='40' max='40' style='width:300px; height:20px; vertical-align: middle;'></progress>\n",
              "      [40/40 00:50, Epoch 5/5]\n",
              "    </div>\n",
              "    <table border=\"1\" class=\"dataframe\">\n",
              "  <thead>\n",
              "    <tr style=\"text-align: left;\">\n",
              "      <th>Step</th>\n",
              "      <th>Training Loss</th>\n",
              "    </tr>\n",
              "  </thead>\n",
              "  <tbody>\n",
              "  </tbody>\n",
              "</table><p>"
            ],
            "text/plain": [
              "<IPython.core.display.HTML object>"
            ]
          },
          "metadata": {
            "tags": []
          },
          "output_type": "display_data"
        },
        {
          "data": {
            "text/plain": [
              "TrainOutput(global_step=40, training_loss=0.8146671295166016, metrics={'train_runtime': 52.2937, 'train_samples_per_second': 0.765, 'total_flos': 180914605650000.0, 'epoch': 5.0, 'init_mem_cpu_alloc_delta': 53542, 'init_mem_gpu_alloc_delta': 536864256, 'init_mem_cpu_peaked_delta': 18306, 'init_mem_gpu_peaked_delta': 0, 'train_mem_cpu_alloc_delta': 172358, 'train_mem_gpu_alloc_delta': 265284608, 'train_mem_cpu_peaked_delta': 338785, 'train_mem_gpu_peaked_delta': 7706785792})"
            ]
          },
          "execution_count": 21,
          "metadata": {
            "tags": []
          },
          "output_type": "execute_result"
        }
      ],
      "source": [
        "trainer.train()"
      ]
    },
    {
      "cell_type": "markdown",
      "metadata": {
        "id": "axvDsmnJnGUG"
      },
      "source": [
        "After completed training, let's check how well our setup performs on the validation set of our target dataset:"
      ]
    },
    {
      "cell_type": "code",
      "execution_count": null,
      "metadata": {
        "colab": {
          "base_uri": "https://localhost:8080/",
          "height": 204
        },
        "id": "PqcApZ_-DpwK",
        "outputId": "8a67eafc-3815-42ad-ab23-dfaba42d34a8"
      },
      "outputs": [
        {
          "data": {
            "text/html": [
              "\n",
              "    <div>\n",
              "        <style>\n",
              "            /* Turns off some styling */\n",
              "            progress {\n",
              "                /* gets rid of default border in Firefox and Opera. */\n",
              "                border: none;\n",
              "                /* Needs to be in here for Safari polyfill so background images work as expected. */\n",
              "                background-size: auto;\n",
              "            }\n",
              "        </style>\n",
              "      \n",
              "      <progress value='2' max='2' style='width:300px; height:20px; vertical-align: middle;'></progress>\n",
              "      [2/2 00:00]\n",
              "    </div>\n",
              "    "
            ],
            "text/plain": [
              "<IPython.core.display.HTML object>"
            ]
          },
          "metadata": {
            "tags": []
          },
          "output_type": "display_data"
        },
        {
          "data": {
            "text/plain": [
              "{'epoch': 5.0,\n",
              " 'eval_acc': 0.6964285714285714,\n",
              " 'eval_loss': 0.8152657747268677,\n",
              " 'eval_mem_cpu_alloc_delta': 68149,\n",
              " 'eval_mem_cpu_peaked_delta': 19846,\n",
              " 'eval_mem_gpu_alloc_delta': 0,\n",
              " 'eval_mem_gpu_peaked_delta': 409437696,\n",
              " 'eval_runtime': 1.0951,\n",
              " 'eval_samples_per_second': 51.139}"
            ]
          },
          "execution_count": 22,
          "metadata": {
            "tags": []
          },
          "output_type": "execute_result"
        }
      ],
      "source": [
        "trainer.evaluate()"
      ]
    },
    {
      "cell_type": "markdown",
      "metadata": {
        "id": "op8M7AfYnWhs"
      },
      "source": [
        "We can also use our setup to make some predictions (the example is from the test set of CB):"
      ]
    },
    {
      "cell_type": "code",
      "execution_count": null,
      "metadata": {
        "colab": {
          "base_uri": "https://localhost:8080/",
          "height": 36
        },
        "id": "e9wQcaNLNPAT",
        "outputId": "63841f17-590e-48f0-9677-2c590aa6bdcb"
      },
      "outputs": [
        {
          "data": {
            "application/vnd.google.colaboratory.intrinsic+json": {
              "type": "string"
            },
            "text/plain": [
              "'entailment'"
            ]
          },
          "execution_count": 23,
          "metadata": {
            "tags": []
          },
          "output_type": "execute_result"
        }
      ],
      "source": [
        "import torch\n",
        "\n",
        "def predict(premise, hypothesis):\n",
        "  encoded = tokenizer(premise, hypothesis, return_tensors=\"pt\")\n",
        "  if torch.cuda.is_available():\n",
        "    encoded.to(\"cuda\")\n",
        "  logits = model(**encoded)[0]\n",
        "  pred_class = torch.argmax(logits).item()\n",
        "  return id2label[pred_class]\n",
        "\n",
        "predict(\"\"\"\n",
        "``It doesn't happen very often.'' Karen went home\n",
        "happy at the end of the day. She didn't think that\n",
        "the work was difficult.\n",
        "\"\"\",\n",
        "\"the work was difficult\"\n",
        ")"
      ]
    },
    {
      "cell_type": "markdown",
      "metadata": {
        "id": "H-fJK8OtnrAu"
      },
      "source": [
        "Finally, we can extract and save our fusion layer as well as all the adapters we used for training. Both can later be reloaded into the pre-trained model again."
      ]
    },
    {
      "cell_type": "code",
      "execution_count": null,
      "metadata": {
        "colab": {
          "base_uri": "https://localhost:8080/"
        },
        "id": "YpHIRIHxJd5d",
        "outputId": "d92cc522-f412-4a69-c6a9-9deed1bee98b"
      },
      "outputs": [
        {
          "name": "stdout",
          "output_type": "stream",
          "text": [
            "total 83056\n",
            "-rw-r--r-- 1 root root      407 Mar 28 10:12 adapter_fusion_config.json\n",
            "drwxr-xr-x 2 root root     4096 Mar 28 10:07 multinli\n",
            "-rw-r--r-- 1 root root 85031691 Mar 28 10:12 pytorch_model_adapter_fusion.bin\n",
            "drwxr-xr-x 2 root root     4096 Mar 28 10:07 qnli\n",
            "drwxr-xr-x 2 root root     4096 Mar 28 10:07 qqp\n"
          ]
        }
      ],
      "source": [
        "model.save_adapter_fusion(\"./saved\", \"multinli,qqp,qnli\")\n",
        "model.save_all_adapters(\"./saved\")\n",
        "\n",
        "!ls -l saved"
      ]
    },
    {
      "cell_type": "markdown",
      "metadata": {
        "id": "4PHWpVLApDWt"
      },
      "source": [
        "That's it. Do check out [the paper on AdapterFusion](https://arxiv.org/pdf/2005.00247.pdf) for a more theoretical view on what we've just seen.\n",
        "\n",
        "➡️ `adapter-transformers` also enables other composition methods beyond AdapterFusion. For example, check out [the next notebook in this series](https://colab.research.google.com/github/Adapter-Hub/adapter-transformers/blob/master/notebooks/04_Cross_Lingual_Transfer.ipynb) on cross-lingual transfer."
      ]
    }
  ],
  "metadata": {
    "accelerator": "GPU",
    "colab": {
      "provenance": [],
      "toc_visible": true
    },
    "kernelspec": {
      "display_name": "Python 3",
      "language": "python",
      "name": "python3"
    },
    "language_info": {
      "codemirror_mode": {
        "name": "ipython",
        "version": 3
      },
      "file_extension": ".py",
      "mimetype": "text/x-python",
      "name": "python",
      "nbconvert_exporter": "python",
      "pygments_lexer": "ipython3",
      "version": "3.10.6"
    },
    "pycharm": {
      "stem_cell": {
        "cell_type": "raw",
        "metadata": {
          "collapsed": false
        },
        "source": []
      }
    }
  },
  "nbformat": 4,
  "nbformat_minor": 0
}
